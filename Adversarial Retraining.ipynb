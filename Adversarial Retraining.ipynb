{
  "nbformat": 4,
  "nbformat_minor": 0,
  "metadata": {
    "colab": {
      "name": "Lab2P3.ipynb",
      "provenance": [],
      "collapsed_sections": []
    },
    "kernelspec": {
      "name": "python3",
      "display_name": "Python 3"
    }
  },
  "cells": [
    {
      "cell_type": "markdown",
      "metadata": {
        "id": "NGdkCWWGvS5w"
      },
      "source": [
        "###Adversarial Retraining against Untargeted FGSM Attacks: For this step, you can assume ε = 10 throughout. To defend against adversarial perturbations, the defender adversarially perturbs each image in her training set using the attacker’s strategy in Step 1. She then appends the adversarially perturbed images to her training set, but using their correct labels. Then, the defender retrains the baseline DNN with a new training dataset containing both images from the original training dataset and the new adversarially perturbed images. We call the new DNN the adversarially retrained DNN.\n"
      ]
    },
    {
      "cell_type": "code",
      "metadata": {
        "id": "BNIiMSNcan2g"
      },
      "source": [
        "import tensorflow as tf"
      ],
      "execution_count": 3,
      "outputs": []
    },
    {
      "cell_type": "markdown",
      "metadata": {
        "id": "vjYTNFVHat7e"
      },
      "source": [
        "First extracting the data (copying code from example collab)"
      ]
    },
    {
      "cell_type": "code",
      "metadata": {
        "id": "qxogUxdJbD7f",
        "colab": {
          "base_uri": "https://localhost:8080/",
          "height": 0
        },
        "outputId": "679b3203-3668-479d-f8ac-be7c43e3f203"
      },
      "source": [
        "mnist = tf.keras.datasets.mnist\n",
        "\n",
        "(x_train, y_train), (x_test, y_test) = mnist.load_data()\n",
        "x_train, x_test = x_train / 255.0, x_test / 255.0"
      ],
      "execution_count": 22,
      "outputs": [
        {
          "output_type": "stream",
          "text": [
            "Downloading data from https://storage.googleapis.com/tensorflow/tf-keras-datasets/mnist.npz\n",
            "11493376/11490434 [==============================] - 0s 0us/step\n"
          ],
          "name": "stdout"
        }
      ]
    },
    {
      "cell_type": "code",
      "metadata": {
        "id": "XOU0gppTbYKQ",
        "colab": {
          "base_uri": "https://localhost:8080/",
          "height": 0
        },
        "outputId": "1216fd0c-16be-44b2-814b-08cb815b59bb"
      },
      "source": [
        "model = tf.keras.models.Sequential([\n",
        "  tf.keras.layers.Flatten(input_shape=(28, 28)),\n",
        "  tf.keras.layers.Dense(128, activation='relu'),\n",
        "  tf.keras.layers.Dropout(0.2),\n",
        "  tf.keras.layers.Dense(10,activation='softmax')\n",
        "])\n",
        "predictions = model(x_train[:1]).numpy()\n",
        "predictions"
      ],
      "execution_count": 41,
      "outputs": [
        {
          "output_type": "execute_result",
          "data": {
            "text/plain": [
              "array([[0.09248519, 0.19016561, 0.09309188, 0.04964913, 0.0495783 ,\n",
              "        0.11208337, 0.10921102, 0.08966512, 0.06469159, 0.14937878]],\n",
              "      dtype=float32)"
            ]
          },
          "metadata": {
            "tags": []
          },
          "execution_count": 41
        }
      ]
    },
    {
      "cell_type": "code",
      "metadata": {
        "id": "7phSXMtAf-lX",
        "colab": {
          "base_uri": "https://localhost:8080/",
          "height": 0
        },
        "outputId": "c926b60e-5462-4640-9e22-4a5b6d8c58a0"
      },
      "source": [
        "tf.nn.softmax(predictions).numpy()"
      ],
      "execution_count": 42,
      "outputs": [
        {
          "output_type": "execute_result",
          "data": {
            "text/plain": [
              "array([[0.09916443, 0.10933973, 0.0992246 , 0.09500632, 0.09499959,\n",
              "        0.10112704, 0.10083698, 0.09888518, 0.09644625, 0.10496983]],\n",
              "      dtype=float32)"
            ]
          },
          "metadata": {
            "tags": []
          },
          "execution_count": 42
        }
      ]
    },
    {
      "cell_type": "markdown",
      "metadata": {
        "id": "BwYLeWsAgQym"
      },
      "source": [
        "Because of disadv. we are using Sparse Categorical Cross entropy"
      ]
    },
    {
      "cell_type": "code",
      "metadata": {
        "id": "3806kzy6gUeI"
      },
      "source": [
        "loss_fn = tf.keras.losses.SparseCategoricalCrossentropy(from_logits=True)"
      ],
      "execution_count": 43,
      "outputs": []
    },
    {
      "cell_type": "code",
      "metadata": {
        "id": "GF_-OCDPgeP2",
        "colab": {
          "base_uri": "https://localhost:8080/",
          "height": 0
        },
        "outputId": "aa840ffd-b650-430a-fc72-a47b85f74cdb"
      },
      "source": [
        "loss_fn(y_train[:1], predictions).numpy()"
      ],
      "execution_count": 44,
      "outputs": [
        {
          "output_type": "execute_result",
          "data": {
            "text/plain": [
              "2.2913778"
            ]
          },
          "metadata": {
            "tags": []
          },
          "execution_count": 44
        }
      ]
    },
    {
      "cell_type": "code",
      "metadata": {
        "id": "J2T8D-sMgvZM"
      },
      "source": [
        "import numpy as np\n",
        "\n",
        "model.compile(optimizer='adam',\n",
        "              loss=loss_fn,\n",
        "              metrics=['accuracy'])\n",
        "\n",
        "def modd(x):\n",
        "  return (x+1)%10\n",
        "moddV=np.vectorize(modd)\n"
      ],
      "execution_count": 45,
      "outputs": []
    },
    {
      "cell_type": "code",
      "metadata": {
        "id": "7Qhoer7Tgxnj",
        "colab": {
          "base_uri": "https://localhost:8080/",
          "height": 0
        },
        "outputId": "7a5a40ca-972c-4fc6-a84b-4f81fcb65bc5"
      },
      "source": [
        "model.fit(x_train, y_train, epochs=5)"
      ],
      "execution_count": 46,
      "outputs": [
        {
          "output_type": "stream",
          "text": [
            "Epoch 1/5\n",
            "1875/1875 [==============================] - 3s 2ms/step - loss: 1.5905 - accuracy: 0.8877\n",
            "Epoch 2/5\n",
            "1875/1875 [==============================] - 3s 2ms/step - loss: 1.5225 - accuracy: 0.9444\n",
            "Epoch 3/5\n",
            "1875/1875 [==============================] - 3s 2ms/step - loss: 1.5093 - accuracy: 0.9562\n",
            "Epoch 4/5\n",
            "1875/1875 [==============================] - 3s 2ms/step - loss: 1.5020 - accuracy: 0.9627\n",
            "Epoch 5/5\n",
            "1875/1875 [==============================] - 3s 2ms/step - loss: 1.4971 - accuracy: 0.9669\n"
          ],
          "name": "stdout"
        },
        {
          "output_type": "execute_result",
          "data": {
            "text/plain": [
              "<tensorflow.python.keras.callbacks.History at 0x7fba43529860>"
            ]
          },
          "metadata": {
            "tags": []
          },
          "execution_count": 46
        }
      ]
    },
    {
      "cell_type": "code",
      "metadata": {
        "id": "-uYb71Bvg-4s",
        "colab": {
          "base_uri": "https://localhost:8080/",
          "height": 0
        },
        "outputId": "ac444b77-5feb-4da2-e681-0d473f93f7bd"
      },
      "source": [
        "model.evaluate(x_test,  y_test, verbose=2)\n",
        "print(y_test.shape)\n",
        "print(x_test.shape)"
      ],
      "execution_count": 47,
      "outputs": [
        {
          "output_type": "stream",
          "text": [
            "313/313 - 0s - loss: 1.4966 - accuracy: 0.9671\n",
            "(10000,)\n",
            "(10000, 28, 28)\n"
          ],
          "name": "stdout"
        }
      ]
    },
    {
      "cell_type": "code",
      "metadata": {
        "id": "giQAF4FV8aIq",
        "colab": {
          "base_uri": "https://localhost:8080/",
          "height": 0
        },
        "outputId": "b4d61f1b-dd7c-46d4-b497-4d51c9532249"
      },
      "source": [
        "model.summary()"
      ],
      "execution_count": 48,
      "outputs": [
        {
          "output_type": "stream",
          "text": [
            "Model: \"sequential_4\"\n",
            "_________________________________________________________________\n",
            "Layer (type)                 Output Shape              Param #   \n",
            "=================================================================\n",
            "flatten_4 (Flatten)          (None, 784)               0         \n",
            "_________________________________________________________________\n",
            "dense_8 (Dense)              (None, 128)               100480    \n",
            "_________________________________________________________________\n",
            "dropout_4 (Dropout)          (None, 128)               0         \n",
            "_________________________________________________________________\n",
            "dense_9 (Dense)              (None, 10)                1290      \n",
            "=================================================================\n",
            "Total params: 101,770\n",
            "Trainable params: 101,770\n",
            "Non-trainable params: 0\n",
            "_________________________________________________________________\n"
          ],
          "name": "stdout"
        }
      ]
    },
    {
      "cell_type": "markdown",
      "metadata": {
        "id": "olCBNJfVGGTf"
      },
      "source": [
        "Adversarial Retraining against Untargeted FGSM Attacks: For this step, you can assume ε = 10 throughout. To defend against adversarial perturbations, the defender adversarially perturbs each image in her training set using the attacker’s strategy in Step 1. She then appends the adversarially perturbed images to her training set, but using their correct labels. Then, the defender retrains the baseline DNN with a new training dataset containing both images from the original training dataset and the new adversarially perturbed images. We call the new DNN the adversarially retrained DNN."
      ]
    },
    {
      "cell_type": "code",
      "metadata": {
        "id": "u_lLjJagjk8h"
      },
      "source": [
        "loss_object=tf.keras.losses.CategoricalCrossentropy()\n",
        "\n",
        "#As I'm feeding in onehotcode form I'm using the \"tf.keras.losses.CategoricalCrossentropy()\"\n",
        "\n",
        "#loss_object = tf.keras.losses.SparseCategoricalCrossentropy()\n",
        "\n",
        "def advPattern(x_test, input_label):\n",
        "  input_image=tf.convert_to_tensor(x_test)\n",
        "  #\n",
        "  input_label = to_categorical(input_label)\n",
        "  with tf.GradientTape() as tp:\n",
        "    tp.watch(input_image)\n",
        "\n",
        "    prediction = model(input_image)\n",
        "    loss = loss_object(input_label, prediction)\n",
        "  # getting d gradients of loss w.r.t to the input image.\n",
        "  gradient = tp.gradient(loss, input_image)\n",
        "  signed_grad = tf.sign(gradient)\n",
        "  return signed_grad\n",
        "e= [10/255]\n",
        "\n",
        "from keras.utils import to_categorical\n",
        "\n",
        "# make the model and load the training dataset.\n",
        "\n",
        "#y_test = to_categorical(y_test)"
      ],
      "execution_count": 59,
      "outputs": []
    },
    {
      "cell_type": "code",
      "metadata": {
        "id": "W9cuHeYP9j8l"
      },
      "source": [
        "import matplotlib as mpl\n",
        "import numpy as np\n",
        "import matplotlib.pyplot as plt\n",
        "x_test[0].shape\n",
        "def dispImgs(image, description):\n",
        "  ADVconfidence = model.predict(image)\n",
        "  model.evaluate(image,  description, verbose=2)\n",
        "  #for ia in range(len(ADVconfidence)):\n",
        "  for ia in range(0,10):\n",
        "    # Just displaying 10 images\n",
        "    plt.figure()\n",
        "    plt.imshow(image[ia])\n",
        "    plt.title(' \\n Number is {} and after Adversarial attack it is labbeled as {} '.format(str(description[ia]), np.argmax(ADVconfidence[ia]*100)))\n",
        "    plt.show()"
      ],
      "execution_count": 50,
      "outputs": []
    },
    {
      "cell_type": "code",
      "metadata": {
        "id": "-uVeIoNBcZ5K",
        "colab": {
          "base_uri": "https://localhost:8080/",
          "height": 0
        },
        "outputId": "1056af08-0650-441d-869d-361aab4e2b93"
      },
      "source": [
        "\n",
        "print(x_test.shape)\n",
        "print(type(y_test))\n",
        "print(y_test.shape)\n",
        "print(x_train.shape)\n",
        "print(y_train.shape)\n",
        "\n",
        "\n",
        "def modd(x):\n",
        "  return (x+1)%10\n",
        "moddV=np.vectorize(modd)\n",
        "ya_test=moddV(y_test)\n",
        "print(type(ya_test))\n",
        "print(ya_test.shape)\n",
        "ya_test.reshape(10000,1)\n",
        "perturbations=advPattern(x_test, y_test)\n",
        "adv_x_test=[]\n",
        "for i, eps in enumerate(e):\n",
        "  #print(x_test.shape)\n",
        "  \n",
        "  img_tensor=tf.convert_to_tensor(x_test)\n",
        "  #print(img_tensor.shape)\n",
        "  #print(perturbations.shape)\n",
        "  adv_x = img_tensor + eps*perturbations\n",
        "  #print(adv_x.shape)\n",
        "  adv_x = tf.clip_by_value(adv_x, 0, 1)\n",
        "  adv_x_test.append(adv_x)\n",
        "\n",
        "#print(len(adv_x_test)) Length is 7\n",
        "#for ii in range(len(adv_x_test)):\n",
        "for ii in range(0,1):\n",
        "  #dispImgs(adv_x_test[ii], y_test)\n",
        "  print(len(adv_x_test))\n"
      ],
      "execution_count": 51,
      "outputs": [
        {
          "output_type": "stream",
          "text": [
            "(10000, 28, 28)\n",
            "<class 'numpy.ndarray'>\n",
            "(10000,)\n",
            "(60000, 28, 28)\n",
            "(60000,)\n",
            "<class 'numpy.ndarray'>\n",
            "(10000,)\n",
            "1\n"
          ],
          "name": "stdout"
        }
      ]
    },
    {
      "cell_type": "code",
      "metadata": {
        "id": "7vU_b-3H2EAq",
        "colab": {
          "base_uri": "https://localhost:8080/",
          "height": 401
        },
        "outputId": "f5838312-4e4a-4dd9-dd6a-44fb7eb2a71b"
      },
      "source": [
        "print(y_test.shape)\n",
        "print(adv_x_test[0].shape)\n",
        "advAccu=[]\n",
        "'''\n",
        "for advimg in adv_x_test:\n",
        "  advY=model.predict(advimg)\n",
        "  advyLabels.append(advY)\n",
        "print(len(advyLabels))\n",
        "from sklearn.metrics import confusion_matrix\n",
        "from sklearn.metrics import classification_report\n",
        "y_duplicate=y_test\n",
        "y_duplicate = to_categorical(y_duplicate)\n",
        "\n",
        "for y_predicted in advyLabels:\n",
        "  print(y_predicted.shape)\n",
        "  print(y_duplicate.shape)\n",
        "  matrix=classification_report(y_duplicate, y_predicted)\n",
        "  cm=pd.DataFrame(matrix)\n",
        "  print(cm)'''\n",
        "\n",
        "for advimg in adv_x_test:\n",
        "  MetricsDict=model.evaluate(advimg,y_test,return_dict=True)\n",
        "  advAccu.append(MetricsDict['accuracy'])\n",
        "plt.figure(figsize=(5,5))\n",
        "plt.plot(e, advAccu, \"*-\")\n",
        "plt.yticks(np.arange(0, 1.1, step=0.1))\n",
        "plt.xticks(np.arange(0, .35, step=0.05))\n",
        "plt.title(\"Accuracy vs Epsilon\")\n",
        "plt.xlabel(\"Epsilon\")\n",
        "plt.ylabel(\"Accuracy\")\n",
        "plt.show()"
      ],
      "execution_count": 52,
      "outputs": [
        {
          "output_type": "stream",
          "text": [
            "(10000,)\n",
            "(10000, 28, 28)\n",
            "313/313 [==============================] - 0s 2ms/step - loss: 1.6882 - accuracy: 0.7805\n"
          ],
          "name": "stdout"
        },
        {
          "output_type": "display_data",
          "data": {
            "image/png": "[encoded data removed]",
            "text/plain": [
              "<Figure size 360x360 with 1 Axes>"
            ]
          },
          "metadata": {
            "tags": [],
            "needs_background": "light"
          }
        }
      ]
    },
    {
      "cell_type": "code",
      "metadata": {
        "id": "PQzEpOy0q1QQ",
        "colab": {
          "base_uri": "https://localhost:8080/",
          "height": 0
        },
        "outputId": "fd8ac77e-218a-4390-f9f0-f4f8546aa613"
      },
      "source": [
        "#type(new_x)\n",
        "new_x=tf.concat([x_train, advimg], 0)\n",
        "#new_x=+\n",
        "new_x.shape"
      ],
      "execution_count": 53,
      "outputs": [
        {
          "output_type": "execute_result",
          "data": {
            "text/plain": [
              "TensorShape([70000, 28, 28])"
            ]
          },
          "metadata": {
            "tags": []
          },
          "execution_count": 53
        }
      ]
    },
    {
      "cell_type": "code",
      "metadata": {
        "id": "v99dCjYXrJVK"
      },
      "source": [
        "#new_y_test=y_test+y_test\n",
        "new_y=tf.concat([y_train, y_test], 0)"
      ],
      "execution_count": 54,
      "outputs": []
    },
    {
      "cell_type": "code",
      "metadata": {
        "id": "-oGL5eY6rNuJ"
      },
      "source": [
        "Retainedmodel = tf.keras.models.Sequential([\n",
        "  tf.keras.layers.Flatten(input_shape=(28, 28)),\n",
        "  tf.keras.layers.Dense(128, activation='relu'),\n",
        "  tf.keras.layers.Dropout(0.2),\n",
        "  tf.keras.layers.Dense(10,activation='softmax')\n",
        "])"
      ],
      "execution_count": 55,
      "outputs": []
    },
    {
      "cell_type": "code",
      "metadata": {
        "id": "LN0yiAuBr0xd"
      },
      "source": [
        "\n",
        "Retainedmodel.compile(optimizer='adam',\n",
        "              loss=loss_fn,\n",
        "              metrics=['accuracy'])"
      ],
      "execution_count": 56,
      "outputs": []
    },
    {
      "cell_type": "code",
      "metadata": {
        "colab": {
          "base_uri": "https://localhost:8080/",
          "height": 0
        },
        "id": "HuLDIeWUrbpt",
        "outputId": "4aade390-5fda-4589-e1a4-be13eccab543"
      },
      "source": [
        "Retainedmodel.fit(new_x, new_y, epochs=5)"
      ],
      "execution_count": 57,
      "outputs": [
        {
          "output_type": "stream",
          "text": [
            "Epoch 1/5\n",
            "2188/2188 [==============================] - 4s 2ms/step - loss: 1.5767 - accuracy: 0.9006\n",
            "Epoch 2/5\n",
            "2188/2188 [==============================] - 4s 2ms/step - loss: 1.5205 - accuracy: 0.9467\n",
            "Epoch 3/5\n",
            "2188/2188 [==============================] - 4s 2ms/step - loss: 1.5072 - accuracy: 0.9575\n",
            "Epoch 4/5\n",
            "2188/2188 [==============================] - 4s 2ms/step - loss: 1.4992 - accuracy: 0.9649\n",
            "Epoch 5/5\n",
            "2188/2188 [==============================] - 4s 2ms/step - loss: 1.4947 - accuracy: 0.9692\n"
          ],
          "name": "stdout"
        },
        {
          "output_type": "execute_result",
          "data": {
            "text/plain": [
              "<tensorflow.python.keras.callbacks.History at 0x7fba41b7dcf8>"
            ]
          },
          "metadata": {
            "tags": []
          },
          "execution_count": 57
        }
      ]
    },
    {
      "cell_type": "markdown",
      "metadata": {
        "id": "SPkhp8Z4tRQt"
      },
      "source": [
        "ReTraining completed now Attacking again"
      ]
    },
    {
      "cell_type": "code",
      "metadata": {
        "id": "_Lo3iIKYt4Ce"
      },
      "source": [
        ""
      ],
      "execution_count": 57,
      "outputs": []
    },
    {
      "cell_type": "code",
      "metadata": {
        "colab": {
          "base_uri": "https://localhost:8080/",
          "height": 367
        },
        "id": "RlCPtpRbrsBT",
        "outputId": "a6dc5d2b-a303-4216-ad21-e253f42706c6"
      },
      "source": [
        "advAccu=[]\n",
        "\n",
        "for advimg in adv_x_test:\n",
        "  MetricsDict=Retainedmodel.evaluate(advimg,y_test,return_dict=True)\n",
        "  advAccu.append(MetricsDict['accuracy'])\n",
        "plt.figure(figsize=(5,5))\n",
        "plt.plot(e, advAccu, \"*-\")\n",
        "plt.yticks(np.arange(0, 1.1, step=0.1))\n",
        "plt.xticks(np.arange(0, .35, step=0.05))\n",
        "plt.title(\"Accuracy vs Epsilon\")\n",
        "plt.xlabel(\"Epsilon\")\n",
        "plt.ylabel(\"Accuracy\")\n",
        "plt.show()"
      ],
      "execution_count": 58,
      "outputs": [
        {
          "output_type": "stream",
          "text": [
            "313/313 [==============================] - 0s 1ms/step - loss: 1.4710 - accuracy: 0.9912\n"
          ],
          "name": "stdout"
        },
        {
          "output_type": "display_data",
          "data": {
            "image/png": "[encoded data removed]",
            "text/plain": [
              "<Figure size 360x360 with 1 Axes>"
            ]
          },
          "metadata": {
            "tags": [],
            "needs_background": "light"
          }
        }
      ]
    },
    {
      "cell_type": "markdown",
      "metadata": {
        "id": "gPQ2jlcqyM-D"
      },
      "source": [
        "So the original model has less accuracy and retrained model has 99 accuracy(which is way more than original model), hence proved that retraining will work"
      ]
    },
    {
      "cell_type": "code",
      "metadata": {
        "id": "x2Pv2xV9yWus"
      },
      "source": [
        ""
      ],
      "execution_count": 58,
      "outputs": []
    }
  ]
}